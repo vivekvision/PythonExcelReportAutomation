{
 "cells": [
  {
   "cell_type": "code",
   "execution_count": 3,
   "id": "2f2253c8",
   "metadata": {},
   "outputs": [],
   "source": [
    "import pandas as pd\n",
    "\n",
    "# Create some sample data\n",
    "sales_data = [\n",
    "    {'Region': 'East', 'Product': 'Product A', 'Sales': 1000},\n",
    "    {'Region': 'East', 'Product': 'Product B', 'Sales': 2000},\n",
    "    {'Region': 'West', 'Product': 'Product A', 'Sales': 1500},\n",
    "    {'Region': 'West', 'Product': 'Product B', 'Sales': 2500},\n",
    "]\n",
    "\n",
    "# Convert the data to a DataFrame\n",
    "df = pd.DataFrame(sales_data)\n",
    "\n",
    "# Create a new Excel workbook and writer\n",
    "writer = pd.ExcelWriter('sales_report.xlsx', engine='xlsxwriter')\n",
    "\n",
    "# Create a worksheet for the report\n",
    "worksheet = writer.book.add_worksheet('Sales Report')\n",
    "\n",
    "# Write the report title\n",
    "title_format = writer.book.add_format({'bold': True, 'font_size': 16})\n",
    "worksheet.write(0, 0, 'Sales_Report', title_format)\n",
    "\n",
    "# Write the data to the worksheet\n",
    "header_format = writer.book.add_format({'bold': True, 'border': True, 'bg_color': '#D9D9D9'})\n",
    "data_format = writer.book.add_format({'border': True})\n",
    "\n",
    "df.to_excel(writer, sheet_name='Sales_Report1', startrow=2, startcol=0, header=False, index=False)\n",
    "\n",
    "worksheet.set_column(0, len(df.columns)-1, 18)\n",
    "worksheet.set_row(1, 30, header_format)\n",
    "for row_num, row_data in enumerate(df.itertuples(index=False), start=2):\n",
    "    for col_num, value in enumerate(row_data):\n",
    "        worksheet.write(row_num, col_num, value, data_format)\n",
    "\n",
    "# Add a chart to the report\n",
    "chart = writer.book.add_chart({'type': 'bar'})\n",
    "chart.add_series({\n",
    "    'name': 'Sales',\n",
    "    'categories': ['Sales Report', 2, 1, len(df)+1, 1],\n",
    "    'values': ['Sales Report', 2, 2, len(df)+1, 2],\n",
    "})\n",
    "chart.set_x_axis({'name': 'Product'})\n",
    "chart.set_y_axis({'name': 'Sales'})\n",
    "chart.set_title({'name': 'Sales by Product'})\n",
    "worksheet.insert_chart('D2', chart)\n",
    "\n",
    "# Save the workbook\n",
    "writer.save()"
   ]
  },
  {
   "cell_type": "code",
   "execution_count": null,
   "id": "80c3a4c5",
   "metadata": {},
   "outputs": [],
   "source": []
  }
 ],
 "metadata": {
  "kernelspec": {
   "display_name": "Python 3 (ipykernel)",
   "language": "python",
   "name": "python3"
  },
  "language_info": {
   "codemirror_mode": {
    "name": "ipython",
    "version": 3
   },
   "file_extension": ".py",
   "mimetype": "text/x-python",
   "name": "python",
   "nbconvert_exporter": "python",
   "pygments_lexer": "ipython3",
   "version": "3.9.7"
  }
 },
 "nbformat": 4,
 "nbformat_minor": 5
}
