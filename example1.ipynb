{
 "cells": [
  {
   "cell_type": "code",
   "execution_count": 5,
   "id": "1ae6c6df",
   "metadata": {},
   "outputs": [],
   "source": [
    "import openpyxl\n",
    "\n",
    "# Create a new Excel workbook\n",
    "wb = openpyxl.Workbook()\n",
    "\n",
    "# Add a sheet for the data\n",
    "ws = wb.active\n",
    "ws.title = 'Data'\n",
    "\n",
    "# Add the data headers\n",
    "headers = ['Name', 'Age', 'Gender', 'Income']\n",
    "for i, header in enumerate(headers):\n",
    "    cell = ws.cell(row=1, column=i+1)\n",
    "    cell.value = header\n",
    "    cell.font = openpyxl.styles.Font(bold=True)\n",
    "\n",
    "# Add some sample data\n",
    "data = [\n",
    "    ['John', 25, 'Male', 50000],\n",
    "    ['Jane', 35, 'Female', 75000],\n",
    "    ['Bob', 42, 'Male', 60000],\n",
    "    ['Alice', 28, 'Female', 65000],\n",
    "    ['Charlie', 21, 'Male', 40000],\n",
    "    ['Eve', 31, 'Female', 80000],\n",
    "    ['Dave', 47, 'Male', 70000],\n",
    "    ['Fiona', 29, 'Female', 60000],\n",
    "    ['George', 37, 'Male', 55000],\n",
    "    ['Heidi', 24, 'Female', 45000],\n",
    "]\n",
    "for i, row_data in enumerate(data):\n",
    "    for j, value in enumerate(row_data):\n",
    "        cell = ws.cell(row=i+2, column=j+1)\n",
    "        cell.value = value\n",
    "\n",
    "# Save the workbook to a file\n",
    "wb.save('example1.xlsx')\n"
   ]
  },
  {
   "cell_type": "code",
   "execution_count": null,
   "id": "06310949",
   "metadata": {},
   "outputs": [],
   "source": []
  }
 ],
 "metadata": {
  "kernelspec": {
   "display_name": "Python 3 (ipykernel)",
   "language": "python",
   "name": "python3"
  },
  "language_info": {
   "codemirror_mode": {
    "name": "ipython",
    "version": 3
   },
   "file_extension": ".py",
   "mimetype": "text/x-python",
   "name": "python",
   "nbconvert_exporter": "python",
   "pygments_lexer": "ipython3",
   "version": "3.9.7"
  }
 },
 "nbformat": 4,
 "nbformat_minor": 5
}
